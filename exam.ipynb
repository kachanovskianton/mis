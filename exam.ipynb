{
 "cells": [
  {
   "cell_type": "markdown",
   "id": "557ef7a0-e4c1-4179-a945-972b1408bea8",
   "metadata": {},
   "source": [
    "# Качановський Антон ІПС-42"
   ]
  },
  {
   "cell_type": "code",
   "execution_count": 2,
   "id": "66caeaae-df3a-4691-8fba-8afdda910643",
   "metadata": {},
   "outputs": [],
   "source": [
    "import pandas as pd\n",
    "import numpy as np\n",
    "import matplotlib.pyplot as plt\n",
    "import seaborn as sns\n",
    "import os"
   ]
  },
  {
   "cell_type": "code",
   "execution_count": 3,
   "id": "4a0d7a22-a39c-46b4-9dcc-b49f9229ec48",
   "metadata": {},
   "outputs": [],
   "source": [
    "os.chdir(\"D:\\\\\")\n",
    "data = pd.read_csv('Expanded_data_with_more_features.csv')"
   ]
  },
  {
   "cell_type": "markdown",
   "id": "ae0c035d-40c1-4396-97c8-b4d9acc965dd",
   "metadata": {},
   "source": [
    "#### 1. Скільки студентів і студенток у наборі даних?"
   ]
  },
  {
   "cell_type": "code",
   "execution_count": 4,
   "id": "b2f48342-4f24-43a6-922b-6648e1b2cb28",
   "metadata": {},
   "outputs": [
    {
     "name": "stdout",
     "output_type": "stream",
     "text": [
      "Cтудентів чоловічої статі: 15217\n",
      "Cтудентів жіночої статі: 15424\n"
     ]
    }
   ],
   "source": [
    "gender_counts = data['Gender'].value_counts()\n",
    "print(\"Cтудентів чоловічої статі:\", gender_counts['male'])\n",
    "print(\"Cтудентів жіночої статі:\", gender_counts['female'])"
   ]
  },
  {
   "cell_type": "markdown",
   "id": "64fce40d-8fae-4465-8157-004fb33da0d8",
   "metadata": {},
   "source": [
    "#### 2. Який відсоток студентів чоловічої статі в наборі даних?"
   ]
  },
  {
   "cell_type": "code",
   "execution_count": 5,
   "id": "594a4ebd-87bb-431d-825a-040c258ce468",
   "metadata": {},
   "outputs": [
    {
     "name": "stdout",
     "output_type": "stream",
     "text": [
      "Відсоток студентів чоловічої статі: 49.6622172905584\n"
     ]
    }
   ],
   "source": [
    "male_percentage = (gender_counts['male'] / data.shape[0]) * 100\n",
    "print(\"Відсоток студентів чоловічої статі:\", male_percentage)"
   ]
  },
  {
   "cell_type": "markdown",
   "id": "cb71c1e4-95d0-43f0-a4e4-cd322521e2d5",
   "metadata": {},
   "source": [
    "#### 3. Який відсоток студенток у наборі даних?"
   ]
  },
  {
   "cell_type": "code",
   "execution_count": 6,
   "id": "f80bb3b3-0b35-425b-8416-5a801cfb19aa",
   "metadata": {},
   "outputs": [
    {
     "name": "stdout",
     "output_type": "stream",
     "text": [
      "Відсоток студентів жіночої статі: 50.337782709441605\n"
     ]
    }
   ],
   "source": [
    "female_percentage = (gender_counts['female'] / data.shape[0]) * 100\n",
    "print(\"Відсоток студентів жіночої статі:\", female_percentage)"
   ]
  },
  {
   "cell_type": "markdown",
   "id": "58577e4f-eda0-4552-b3ed-8c13ebe1813c",
   "metadata": {},
   "source": [
    "#### 4. Яка етнічна група має найвищий середній бал з математики?"
   ]
  },
  {
   "cell_type": "code",
   "execution_count": 7,
   "id": "0f4e9071-9a09-40ff-aaf0-8d28028622d6",
   "metadata": {},
   "outputs": [
    {
     "name": "stdout",
     "output_type": "stream",
     "text": [
      "group E\n"
     ]
    }
   ],
   "source": [
    "highest_math = data.groupby('EthnicGroup')['MathScore'].mean().idxmax()\n",
    "print(highest_math)"
   ]
  },
  {
   "cell_type": "markdown",
   "id": "c5cd0cb6-29e8-44ab-887f-824689c11f54",
   "metadata": {},
   "source": [
    "#### 5. Яка етнічна група має найвищий середній бал читання?"
   ]
  },
  {
   "cell_type": "code",
   "execution_count": 8,
   "id": "f38d2b55-f7da-4b4f-bba7-0e13e4133fd9",
   "metadata": {},
   "outputs": [
    {
     "name": "stdout",
     "output_type": "stream",
     "text": [
      "group E\n"
     ]
    }
   ],
   "source": [
    "highest_reading = data.groupby('EthnicGroup')['ReadingScore'].mean().idxmax()\n",
    "print(highest_reading)"
   ]
  },
  {
   "cell_type": "markdown",
   "id": "8fa6d17f-b4d3-48f9-af4a-d540187ca3fa",
   "metadata": {},
   "source": [
    "#### 6. Яка етнічна група має найвищий середній бал з письма?"
   ]
  },
  {
   "cell_type": "code",
   "execution_count": 9,
   "id": "4eb82f4e-de74-4e57-a513-46b1f0205515",
   "metadata": {},
   "outputs": [
    {
     "name": "stdout",
     "output_type": "stream",
     "text": [
      "group E\n"
     ]
    }
   ],
   "source": [
    "highest_writing = data.groupby('EthnicGroup')['WritingScore'].mean().idxmax()\n",
    "print(highest_writing)"
   ]
  },
  {
   "cell_type": "markdown",
   "id": "d94c3b2e-f853-4a83-aabd-515575c41dda",
   "metadata": {},
   "source": [
    "####  7. Який середній бал з математики для студентів, які закінчили курс підготовки до тесту?"
   ]
  },
  {
   "cell_type": "code",
   "execution_count": 10,
   "id": "4d22d756-455c-4b83-9041-118ce1f3ca85",
   "metadata": {},
   "outputs": [
    {
     "name": "stdout",
     "output_type": "stream",
     "text": [
      "69.5466599698644\n"
     ]
    }
   ],
   "source": [
    "avg_math_completed = data[data['TestPrep'] == 'completed']['MathScore'].mean()\n",
    "print(avg_math_completed)"
   ]
  },
  {
   "cell_type": "markdown",
   "id": "c686dae5-5bbd-4feb-9a45-d275c8677458",
   "metadata": {},
   "source": [
    "#### 8. Який середній бал з читання для студентів, які пройшли курс підготовки до тесту?"
   ]
  },
  {
   "cell_type": "code",
   "execution_count": 11,
   "id": "95f0d880-17e6-483b-a8f4-241e00ab657e",
   "metadata": {},
   "outputs": [
    {
     "name": "stdout",
     "output_type": "stream",
     "text": [
      "73.73299849321948\n"
     ]
    }
   ],
   "source": [
    "avg_reading_completed = data[data['TestPrep'] == 'completed']['ReadingScore'].mean()\n",
    "print(avg_reading_completed)"
   ]
  },
  {
   "cell_type": "markdown",
   "id": "2013eae3-5c19-4f8a-9f53-5fbdabffa84d",
   "metadata": {},
   "source": [
    "#### 9. Який середній бал для студентів, які закінчили курс підготовки до тесту?\n"
   ]
  },
  {
   "cell_type": "code",
   "execution_count": 12,
   "id": "1ca1f1a3-7fe9-4672-a4e6-55e5c4ca217b",
   "metadata": {},
   "outputs": [
    {
     "name": "stdout",
     "output_type": "stream",
     "text": [
      "74.70326469111\n"
     ]
    }
   ],
   "source": [
    "avg_writing_completed = data[data['TestPrep'] == 'completed']['WritingScore'].mean()\n",
    "print(avg_writing_completed)"
   ]
  },
  {
   "cell_type": "markdown",
   "id": "39615083-91b2-475f-82bd-3108efb0a6d7",
   "metadata": {},
   "source": [
    "#### 10. Скільки студентів мають одружених батьків?"
   ]
  },
  {
   "cell_type": "code",
   "execution_count": 13,
   "id": "cfd1107e-acae-47b2-b2bb-b23b041935e9",
   "metadata": {},
   "outputs": [
    {
     "name": "stdout",
     "output_type": "stream",
     "text": [
      "16844\n"
     ]
    }
   ],
   "source": [
    "married_parents = data[data['ParentMaritalStatus'] == 'married'].shape[0]\n",
    "print(married_parents)"
   ]
  },
  {
   "cell_type": "markdown",
   "id": "54494529-71c8-4431-89bc-69b2b7f71129",
   "metadata": {},
   "source": [
    "#### 11. Скільки студентів мають батьків-одинаків?"
   ]
  },
  {
   "cell_type": "code",
   "execution_count": 14,
   "id": "5dc8c4a0-7f84-49c7-9f4d-09cbfc4363aa",
   "metadata": {},
   "outputs": [
    {
     "name": "stdout",
     "output_type": "stream",
     "text": [
      "7097\n"
     ]
    }
   ],
   "source": [
    "single_parents = data[data['ParentMaritalStatus'] == 'single'].shape[0]\n",
    "print(single_parents)"
   ]
  },
  {
   "cell_type": "markdown",
   "id": "a1e33cff-56c7-45dc-a9ab-1860800b67b6",
   "metadata": {},
   "source": [
    "####  12. Чи студенти, які регулярно займаються спортом, мають вищі середні результати з математики, ніж ті, хто ніколи не займається спортом?"
   ]
  },
  {
   "cell_type": "code",
   "execution_count": 15,
   "id": "4daf3a5d-33b0-4e8d-a5bb-f417aa208bfb",
   "metadata": {},
   "outputs": [
    {
     "name": "stdout",
     "output_type": "stream",
     "text": [
      "True\n"
     ]
    }
   ],
   "source": [
    "avg_math_sports = data.groupby('PracticeSport')['MathScore'].mean()\n",
    "print(avg_math_sports['regularly'] > avg_math_sports['never'])"
   ]
  },
  {
   "cell_type": "markdown",
   "id": "4d328c6c-ddd0-46eb-979a-5ba3ac8292d1",
   "metadata": {},
   "source": [
    "#### 13. Чи студенти, які регулярно займаються спортом, мають вищі середні результати читання, ніж ті, хто ніколи не займається спортом?"
   ]
  },
  {
   "cell_type": "code",
   "execution_count": 16,
   "id": "d44c4fc6-114f-4e1c-83b8-a3ef1405f188",
   "metadata": {},
   "outputs": [
    {
     "name": "stdout",
     "output_type": "stream",
     "text": [
      "True\n"
     ]
    }
   ],
   "source": [
    "avg_reading_sports = data.groupby('PracticeSport')['ReadingScore'].mean()\n",
    "print(avg_reading_sports['regularly'] > avg_reading_sports['never'])"
   ]
  },
  {
   "cell_type": "markdown",
   "id": "58d5ffa9-b049-4ba1-9738-a15a2e72cd5a",
   "metadata": {},
   "source": [
    "#### 14. Скільки учнів користується шкільним автобусом, щоб дістатися до школи?"
   ]
  },
  {
   "cell_type": "code",
   "execution_count": 17,
   "id": "11e50e2e-80af-4343-a229-c90d08590cc2",
   "metadata": {},
   "outputs": [
    {
     "name": "stdout",
     "output_type": "stream",
     "text": [
      "16145\n"
     ]
    }
   ],
   "source": [
    "school_bus_count = data[data['TransportMeans'] == 'school_bus'].shape[0]\n",
    "print(school_bus_count)"
   ]
  },
  {
   "cell_type": "markdown",
   "id": "6d56e1ca-1bd9-4586-8761-b983f634344a",
   "metadata": {},
   "source": [
    "#### 15. Скільки учнів користується приватним транспортом, щоб дістатися до школи?"
   ]
  },
  {
   "cell_type": "code",
   "execution_count": 18,
   "id": "67073d63-31f0-4472-8149-9264d536720c",
   "metadata": {},
   "outputs": [
    {
     "name": "stdout",
     "output_type": "stream",
     "text": [
      "11362\n"
     ]
    }
   ],
   "source": [
    "private_transport_count = data[data['TransportMeans'] == 'private'].shape[0]\n",
    "print(private_transport_count)"
   ]
  },
  {
   "cell_type": "markdown",
   "id": "17257a27-870f-4549-8879-9927d4959437",
   "metadata": {},
   "source": [
    "## Задача класифікації"
   ]
  },
  {
   "cell_type": "code",
   "execution_count": null,
   "id": "d88ea887-b40b-4039-944c-073ab972e80a",
   "metadata": {},
   "outputs": [],
   "source": [
    "from sklearn.model_selection import train_test_split\n",
    "from sklearn.linear_model import LogisticRegression\n",
    "from sklearn.preprocessing import StandardScaler, OneHotEncoder\n",
    "from sklearn.compose import ColumnTransformer\n",
    "from sklearn.pipeline import Pipeline\n",
    "from sklearn.impute import SimpleImputer\n",
    "from sklearn.metrics import accuracy_score\n"
   ]
  },
  {
   "cell_type": "code",
   "execution_count": null,
   "id": "7195d07d-a323-4a9f-bb05-fee7b4789d7d",
   "metadata": {},
   "outputs": [],
   "source": [
    "X = data.drop(\"TestPrep\", axis=1)\n",
    "y = data[\"TestPrep\"]\n",
    "\n",
    "categorical_features = ['Gender', 'EthnicGroup', 'ParentEduc', 'LunchType', 'ParentMaritalStatus', 'PracticeSport', 'IsFirstChild', 'TransportMeans']\n",
    "numeric_features = ['NrSiblings', 'WklyStudyHours', 'MathScore', 'ReadingScore', 'WritingScore']\n",
    "\n",
    "preprocessor = ColumnTransformer(transformers=[\n",
    "    ('num', SimpleImputer(strategy='median'), numeric_features),\n",
    "    ('cat', OneHotEncoder(handle_unknown='ignore'), categorical_features)\n",
    "])\n",
    "\n",
    "scaler = StandardScaler()\n",
    "\n",
    "pipeline = Pipeline(steps=[('preprocessor', preprocessor),\n",
    "                           ('scaler', scaler),\n",
    "                           ('classifier', LogisticRegression(solver='liblinear', random_state=42))])\n",
    "\n",
    "X_train, X_test, y_train, y_test = train_test_split(X, y, test_size=0.3, random_state=42)\n",
    "\n",
    "pipeline.fit(X_train, y_train)\n",
    "\n",
    "y_pred = pipeline.predict(X_test)\n",
    "\n",
    "accuracy = accuracy_score(y_test, y_pred)\n",
    "print(f\"Accuracy: {accuracy:.2f}\")"
   ]
  },
  {
   "cell_type": "code",
   "execution_count": null,
   "id": "2259ed33-ba2f-45b2-9647-6110888dea3e",
   "metadata": {},
   "outputs": [],
   "source": []
  }
 ],
 "metadata": {
  "kernelspec": {
   "display_name": "Python 3 (ipykernel)",
   "language": "python",
   "name": "python3"
  },
  "language_info": {
   "codemirror_mode": {
    "name": "ipython",
    "version": 3
   },
   "file_extension": ".py",
   "mimetype": "text/x-python",
   "name": "python",
   "nbconvert_exporter": "python",
   "pygments_lexer": "ipython3",
   "version": "3.11.7"
  }
 },
 "nbformat": 4,
 "nbformat_minor": 5
}
